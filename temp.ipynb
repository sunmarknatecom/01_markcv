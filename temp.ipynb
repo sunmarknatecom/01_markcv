{
  "nbformat": 4,
  "nbformat_minor": 0,
  "metadata": {
    "colab": {
      "name": "temp.ipynb",
      "provenance": [],
      "mount_file_id": "1RPuAdC9F09Sdzxypbtu-RpAfu9opeSjP",
      "authorship_tag": "ABX9TyMlFx2iMSaq427CqQA4rtqZ",
      "include_colab_link": true
    },
    "kernelspec": {
      "name": "python3",
      "display_name": "Python 3"
    },
    "language_info": {
      "name": "python"
    }
  },
  "cells": [
    {
      "cell_type": "markdown",
      "metadata": {
        "id": "view-in-github",
        "colab_type": "text"
      },
      "source": [
        "<a href=\"https://colab.research.google.com/github/sunmarknatecom/01_markcv/blob/master/temp.ipynb\" target=\"_parent\"><img src=\"https://colab.research.google.com/assets/colab-badge.svg\" alt=\"Open In Colab\"/></a>"
      ]
    },
    {
      "cell_type": "code",
      "source": [
        "import os\n",
        "\n",
        "os.getcwd()"
      ],
      "metadata": {
        "colab": {
          "base_uri": "https://localhost:8080/",
          "height": 35
        },
        "id": "4tEXgrdrvkzP",
        "outputId": "53b5ae2b-0c58-4ae6-a49f-329edf4d9b63"
      },
      "execution_count": null,
      "outputs": [
        {
          "output_type": "execute_result",
          "data": {
            "application/vnd.google.colaboratory.intrinsic+json": {
              "type": "string"
            },
            "text/plain": [
              "'/content'"
            ]
          },
          "metadata": {},
          "execution_count": 2
        }
      ]
    },
    {
      "cell_type": "code",
      "source": [
        "os.getcwd()"
      ],
      "metadata": {
        "colab": {
          "base_uri": "https://localhost:8080/",
          "height": 35
        },
        "id": "iOG1zlvLvnSS",
        "outputId": "8acf7409-eeac-44a9-bcd4-2304fd6646ea"
      },
      "execution_count": null,
      "outputs": [
        {
          "output_type": "execute_result",
          "data": {
            "application/vnd.google.colaboratory.intrinsic+json": {
              "type": "string"
            },
            "text/plain": [
              "'/content'"
            ]
          },
          "metadata": {},
          "execution_count": 3
        }
      ]
    },
    {
      "cell_type": "code",
      "source": [
        "import zipfile\n",
        "\n",
        "path = '/content/drive/MyDrive/segmentation/data/seg_002/mask/'\n",
        "mask_zip = zipfile.ZipFile(path+'masks.zip')\n",
        "mask_zip.extractall(path)\n",
        "\n",
        "mask_zip.close()"
      ],
      "metadata": {
        "id": "ZwjeWc2rvrHH"
      },
      "execution_count": null,
      "outputs": []
    },
    {
      "cell_type": "code",
      "source": [
        "import os\n",
        "\n",
        "a = os.listdir('/content/drive/MyDrive/segmentation/data/seg_002/mask/')\n",
        "\n",
        "print(len(a))"
      ],
      "metadata": {
        "colab": {
          "base_uri": "https://localhost:8080/"
        },
        "id": "CBhVZVwfwusV",
        "outputId": "b161d43c-f4b7-4021-9edc-dbd7c9ea035a"
      },
      "execution_count": null,
      "outputs": [
        {
          "output_type": "stream",
          "name": "stdout",
          "text": [
            "356\n"
          ]
        }
      ]
    },
    {
      "cell_type": "code",
      "source": [
        "import os"
      ],
      "metadata": {
        "id": "T_jzATEttfPL"
      },
      "execution_count": 2,
      "outputs": []
    },
    {
      "cell_type": "code",
      "source": [
        "f_list = os.listdir('/content/drive/MyDrive/segmentation/data/seg_001/prediction/')\n",
        "path = '/content/drive/MyDrive/segmentation/data/seg_001/prediction/'\n",
        "for idx, elem in enumerate(f_list):\n",
        "    old_name = path + elem\n",
        "    new_name = path + 'seg_001_prd_' + elem[-7:]\n",
        "    os.rename(old_name, new_name)"
      ],
      "metadata": {
        "id": "X8BnxMH7tZnO"
      },
      "execution_count": 27,
      "outputs": []
    },
    {
      "cell_type": "code",
      "source": [
        "for idx, elem in enumerate(f_list):\n",
        "    old_name = path + elem\n",
        "    new_name = path + 'seg_001_msk_' + elem[6:9] + '.png'\n",
        "    os.rename(old_name, new_name)"
      ],
      "metadata": {
        "id": "oPgntjCbyt2J"
      },
      "execution_count": null,
      "outputs": []
    },
    {
      "cell_type": "code",
      "source": [
        "f_list = os.listdir('/content/drive/MyDrive/segmentation/data/seg_002/dicom/')\n",
        "path = '/content/drive/MyDrive/segmentation/data/seg_002/dicom/'\n",
        "for idx, elem in enumerate(f_list):\n",
        "    old_name = path + elem\n",
        "    new_name = path + 'seg_001_dcm_' + elem[-7:]\n",
        "    os.rename(old_name, new_name)"
      ],
      "metadata": {
        "id": "hghy9EDmyuZl"
      },
      "execution_count": 31,
      "outputs": []
    },
    {
      "cell_type": "code",
      "source": [
        "f_list = os.listdir('/content/drive/MyDrive/segmentation/data/seg_002/image/')\n",
        "path = '/content/drive/MyDrive/segmentation/data/seg_002/image/'\n",
        "for idx, elem in enumerate(f_list):\n",
        "    old_name = path + elem\n",
        "    new_name = path + 'seg_001_dcm_' + elem[-7:]\n",
        "    os.rename(old_name, new_name)"
      ],
      "metadata": {
        "id": "ewZERrxAum_N"
      },
      "execution_count": 32,
      "outputs": []
    },
    {
      "cell_type": "code",
      "source": [
        "f_list = os.listdir('/content/drive/MyDrive/segmentation/data/seg_002/mask/')\n",
        "path = '/content/drive/MyDrive/segmentation/data/seg_002/mask/'\n",
        "for idx, elem in enumerate(f_list):\n",
        "    old_name = path + elem\n",
        "    new_name = path + 'seg_001_msk_' + elem[2:6] + '.png'\n",
        "    os.rename(old_name, new_name)"
      ],
      "metadata": {
        "id": "_fJDdfCFti_-"
      },
      "execution_count": 33,
      "outputs": []
    },
    {
      "cell_type": "code",
      "source": [
        ""
      ],
      "metadata": {
        "id": "aV8bZQ5HtdsW"
      },
      "execution_count": null,
      "outputs": []
    },
    {
      "cell_type": "code",
      "source": [
        ""
      ],
      "metadata": {
        "id": "RqUzumJCthlC"
      },
      "execution_count": 30,
      "outputs": []
    },
    {
      "cell_type": "code",
      "source": [
        ""
      ],
      "metadata": {
        "id": "4_sw3DkWuT7S"
      },
      "execution_count": 26,
      "outputs": []
    }
  ]
}