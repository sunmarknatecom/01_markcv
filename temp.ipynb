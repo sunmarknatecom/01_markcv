{
  "nbformat": 4,
  "nbformat_minor": 0,
  "metadata": {
    "colab": {
      "name": "temp.ipynb",
      "provenance": [],
      "mount_file_id": "1RPuAdC9F09Sdzxypbtu-RpAfu9opeSjP",
      "authorship_tag": "ABX9TyO5d2amxZ3adGXBCYbbxGVh",
      "include_colab_link": true
    },
    "kernelspec": {
      "name": "python3",
      "display_name": "Python 3"
    },
    "language_info": {
      "name": "python"
    }
  },
  "cells": [
    {
      "cell_type": "markdown",
      "metadata": {
        "id": "view-in-github",
        "colab_type": "text"
      },
      "source": [
        "<a href=\"https://colab.research.google.com/github/sunmarknatecom/01_markcv/blob/master/temp.ipynb\" target=\"_parent\"><img src=\"https://colab.research.google.com/assets/colab-badge.svg\" alt=\"Open In Colab\"/></a>"
      ]
    },
    {
      "cell_type": "code",
      "source": [
        "from google.colab import drive\n",
        "drive.mount('/content/drive')"
      ],
      "metadata": {
        "colab": {
          "base_uri": "https://localhost:8080/"
        },
        "id": "90e_vZFLvfSG",
        "outputId": "321a6d61-5a5c-4c17-fad0-770296cf7b1a"
      },
      "execution_count": 1,
      "outputs": [
        {
          "output_type": "stream",
          "name": "stdout",
          "text": [
            "Drive already mounted at /content/drive; to attempt to forcibly remount, call drive.mount(\"/content/drive\", force_remount=True).\n"
          ]
        }
      ]
    },
    {
      "cell_type": "markdown",
      "source": [
        "# 압축파일 해제\n",
        "\n",
        "1.   path 확정\n",
        "2.   압축 파일 이름 확정"
      ],
      "metadata": {
        "id": "P-3LY5up4SiO"
      }
    },
    {
      "cell_type": "code",
      "source": [
        "path = '/content/drive/MyDrive/segmentation/data/seg_002/mask/'"
      ],
      "metadata": {
        "id": "Y240ZGdq4qBm"
      },
      "execution_count": 6,
      "outputs": []
    },
    {
      "cell_type": "code",
      "source": [
        "import os, zipfile\n",
        "\n",
        "mask_zip = zipfile.ZipFile(path+'masks.zip')\n",
        "mask_zip.extractall(path)\n",
        "mask_zip.close()"
      ],
      "metadata": {
        "id": "ZwjeWc2rvrHH"
      },
      "execution_count": 3,
      "outputs": []
    },
    {
      "cell_type": "code",
      "source": [
        "print(len(os.listdir(path)))"
      ],
      "metadata": {
        "colab": {
          "base_uri": "https://localhost:8080/"
        },
        "id": "CBhVZVwfwusV",
        "outputId": "72eb8550-41ff-491e-a215-96877a1bca91"
      },
      "execution_count": 8,
      "outputs": [
        {
          "output_type": "stream",
          "name": "stdout",
          "text": [
            "356\n"
          ]
        }
      ]
    },
    {
      "cell_type": "code",
      "source": [
        "import os"
      ],
      "metadata": {
        "id": "taC0eHhUACPX"
      },
      "execution_count": 5,
      "outputs": []
    },
    {
      "cell_type": "markdown",
      "source": [
        "# DICOM 파일이름 정리\n",
        "\n",
        "1. path 확정 (root, idx, group)\n",
        "2. "
      ],
      "metadata": {
        "id": "y_BCfuxI8yEG"
      }
    },
    {
      "cell_type": "code",
      "source": [
        "root = '/content/drive/MyDrive/segmentation/data/'\n",
        "idx = 'seg_006/'"
      ],
      "metadata": {
        "id": "Q9GZkZoZ9sDf"
      },
      "execution_count": 13,
      "outputs": []
    },
    {
      "cell_type": "code",
      "source": [
        "group = 'dicom/'\n",
        "\n",
        "path = root + idx + group\n",
        "\n",
        "f_list = os.listdir(path)\n",
        "\n",
        "for elem in f_list:\n",
        "    old_name = path + elem\n",
        "    new_name = path + idx[:-1] + '_dcm_' + elem[-7:]\n",
        "    os.rename(old_name, new_name)"
      ],
      "metadata": {
        "id": "SWqpELcy7FSO"
      },
      "execution_count": 10,
      "outputs": []
    },
    {
      "cell_type": "markdown",
      "source": [
        "# IMAGE 파일 이름 정리"
      ],
      "metadata": {
        "id": "fzVDObwN81wo"
      }
    },
    {
      "cell_type": "code",
      "source": [
        "group = 'image/'\n",
        "\n",
        "path = root + idx + group\n",
        "\n",
        "f_list = os.listdir(path)\n",
        "\n",
        "for elem in f_list:\n",
        "    old_name = path + elem\n",
        "    new_name = path + idx[:-1] + '_img_' + elem[2:5] + '.jpg'\n",
        "    os.rename(old_name, new_name)"
      ],
      "metadata": {
        "id": "tu7l8pB87FKW"
      },
      "execution_count": 14,
      "outputs": []
    },
    {
      "cell_type": "markdown",
      "source": [
        "# MASK 파일 이름 정리"
      ],
      "metadata": {
        "id": "zVHlLPn785av"
      }
    },
    {
      "cell_type": "code",
      "source": [
        "group = 'mask/'\n",
        "\n",
        "path = root + idx + group\n",
        "\n",
        "f_list = os.listdir(path)\n",
        "\n",
        "for elem in f_list:\n",
        "    old_name = path + elem\n",
        "    new_name = path + idx[:-1] + '_msk_' + elem[2:5] + '.png'\n",
        "    os.rename(old_name, new_name)"
      ],
      "metadata": {
        "id": "fmzFQl8687n4"
      },
      "execution_count": 3,
      "outputs": []
    },
    {
      "cell_type": "markdown",
      "source": [
        "# PREDICTION 파일 이름 정리"
      ],
      "metadata": {
        "id": "uwUnpa4M89W-"
      }
    },
    {
      "cell_type": "code",
      "source": [
        "group = 'prediction/'\n",
        "\n",
        "path = root + idx + group\n",
        "\n",
        "f_list = os.listdir(path)\n",
        "\n",
        "for elem in f_list:\n",
        "    old_name = path + elem\n",
        "    new_name = path + idx[:-1] + '_prd_' + elem[2:5] + '.png'\n",
        "    os.rename(old_name, new_name)"
      ],
      "metadata": {
        "id": "KeCxhgQE8_64"
      },
      "execution_count": null,
      "outputs": []
    },
    {
      "cell_type": "code",
      "source": [
        ""
      ],
      "metadata": {
        "id": "bIyXGWk4A1Cc"
      },
      "execution_count": null,
      "outputs": []
    }
  ]
}